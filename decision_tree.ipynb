{
 "cells": [
  {
   "cell_type": "markdown",
   "metadata": {},
   "source": [
    "[Classificação de frases por setor](https://handtalk.notion.site/Classifica-o-de-frases-por-setor-18c80adbbf874c519c9efe19678ac4c1)"
   ]
  },
  {
   "cell_type": "markdown",
   "metadata": {},
   "source": [
    "https://www.kaggle.com/code/rhodiumbeng/classifying-multi-label-comments-0-9741-lb/notebook"
   ]
  },
  {
   "cell_type": "code",
   "execution_count": 72,
   "metadata": {},
   "outputs": [
    {
     "name": "stderr",
     "output_type": "stream",
     "text": [
      "[nltk_data] Downloading package stopwords to\n",
      "[nltk_data]     /home/gabriel/nltk_data...\n",
      "[nltk_data]   Package stopwords is already up-to-date!\n"
     ]
    }
   ],
   "source": [
    "import pandas as pd\n",
    "import numpy as np\n",
    "from keras.models import Sequential\n",
    "from keras.layers import Dense, LSTM, Embedding\n",
    "from keras.preprocessing.sequence import pad_sequences\n",
    "from keras.preprocessing.text import Tokenizer\n",
    "from sklearn.model_selection import train_test_split\n",
    "from sklearn.preprocessing import MultiLabelBinarizer\n",
    "import plotly.graph_objects as go\n",
    "from sklearn.feature_extraction.text import TfidfVectorizer\n",
    "import nltk\n",
    "nltk.download('stopwords')\n",
    "from nltk.corpus import stopwords\n",
    "from sklearn.linear_model import LogisticRegression\n",
    "from sklearn.metrics import accuracy_score\n",
    "from sklearn.model_selection import KFold\n",
    "from unidecode import unidecode\n",
    "import pickle"
   ]
  },
  {
   "cell_type": "code",
   "execution_count": 73,
   "metadata": {},
   "outputs": [],
   "source": [
    "df = pd.read_csv(\"dataset.csv\")"
   ]
  },
  {
   "cell_type": "code",
   "execution_count": 74,
   "metadata": {},
   "outputs": [
    {
     "name": "stdout",
     "output_type": "stream",
     "text": [
      "<class 'pandas.core.frame.DataFrame'>\n",
      "RangeIndex: 521 entries, 0 to 520\n",
      "Data columns (total 2 columns):\n",
      " #   Column    Non-Null Count  Dtype \n",
      "---  ------    --------------  ----- \n",
      " 0   sentence  521 non-null    object\n",
      " 1   category  521 non-null    object\n",
      "dtypes: object(2)\n",
      "memory usage: 8.3+ KB\n"
     ]
    }
   ],
   "source": [
    "df.info()"
   ]
  },
  {
   "cell_type": "code",
   "execution_count": 75,
   "metadata": {},
   "outputs": [
    {
     "data": {
      "text/html": [
       "<div>\n",
       "<style scoped>\n",
       "    .dataframe tbody tr th:only-of-type {\n",
       "        vertical-align: middle;\n",
       "    }\n",
       "\n",
       "    .dataframe tbody tr th {\n",
       "        vertical-align: top;\n",
       "    }\n",
       "\n",
       "    .dataframe thead th {\n",
       "        text-align: right;\n",
       "    }\n",
       "</style>\n",
       "<table border=\"1\" class=\"dataframe\">\n",
       "  <thead>\n",
       "    <tr style=\"text-align: right;\">\n",
       "      <th></th>\n",
       "      <th>sentence</th>\n",
       "      <th>category</th>\n",
       "    </tr>\n",
       "  </thead>\n",
       "  <tbody>\n",
       "    <tr>\n",
       "      <th>0</th>\n",
       "      <td>Auxílio-Doença Previdenciário, Benefícios em E...</td>\n",
       "      <td>orgão público</td>\n",
       "    </tr>\n",
       "    <tr>\n",
       "      <th>1</th>\n",
       "      <td>PAGAR TODAS AS CONTAS EM ATRASO R$1.290,90.</td>\n",
       "      <td>finanças</td>\n",
       "    </tr>\n",
       "    <tr>\n",
       "      <th>2</th>\n",
       "      <td>Então encontraremos na próxima aula.</td>\n",
       "      <td>educação</td>\n",
       "    </tr>\n",
       "    <tr>\n",
       "      <th>3</th>\n",
       "      <td>Veja os resultados da categoria de ofertas do ...</td>\n",
       "      <td>indústrias</td>\n",
       "    </tr>\n",
       "    <tr>\n",
       "      <th>4</th>\n",
       "      <td>Além disso, a embalagem é reutilizável e 100% ...</td>\n",
       "      <td>indústrias,varejo</td>\n",
       "    </tr>\n",
       "    <tr>\n",
       "      <th>...</th>\n",
       "      <td>...</td>\n",
       "      <td>...</td>\n",
       "    </tr>\n",
       "    <tr>\n",
       "      <th>516</th>\n",
       "      <td>Selecione o local de estudo, curso sem encontr...</td>\n",
       "      <td>educação</td>\n",
       "    </tr>\n",
       "    <tr>\n",
       "      <th>517</th>\n",
       "      <td>ESTUDANTES DA REDE MUNICIPAL VOLTAM ÀS AULAS E...</td>\n",
       "      <td>educação,orgão público</td>\n",
       "    </tr>\n",
       "    <tr>\n",
       "      <th>518</th>\n",
       "      <td>Empresas e órgãos públicos</td>\n",
       "      <td>orgão público</td>\n",
       "    </tr>\n",
       "    <tr>\n",
       "      <th>519</th>\n",
       "      <td>DGE – Departamento de Gestão Estratégica Metas...</td>\n",
       "      <td>orgão público</td>\n",
       "    </tr>\n",
       "    <tr>\n",
       "      <th>520</th>\n",
       "      <td>Lei 13.467/2017, Reforma Trabalhista</td>\n",
       "      <td>orgão público</td>\n",
       "    </tr>\n",
       "  </tbody>\n",
       "</table>\n",
       "<p>521 rows × 2 columns</p>\n",
       "</div>"
      ],
      "text/plain": [
       "                                              sentence                category\n",
       "0    Auxílio-Doença Previdenciário, Benefícios em E...           orgão público\n",
       "1          PAGAR TODAS AS CONTAS EM ATRASO R$1.290,90.                finanças\n",
       "2                 Então encontraremos na próxima aula.                educação\n",
       "3    Veja os resultados da categoria de ofertas do ...              indústrias\n",
       "4    Além disso, a embalagem é reutilizável e 100% ...       indústrias,varejo\n",
       "..                                                 ...                     ...\n",
       "516  Selecione o local de estudo, curso sem encontr...                educação\n",
       "517  ESTUDANTES DA REDE MUNICIPAL VOLTAM ÀS AULAS E...  educação,orgão público\n",
       "518                         Empresas e órgãos públicos           orgão público\n",
       "519  DGE – Departamento de Gestão Estratégica Metas...           orgão público\n",
       "520               Lei 13.467/2017, Reforma Trabalhista           orgão público\n",
       "\n",
       "[521 rows x 2 columns]"
      ]
     },
     "execution_count": 75,
     "metadata": {},
     "output_type": "execute_result"
    }
   ],
   "source": [
    "df"
   ]
  },
  {
   "cell_type": "code",
   "execution_count": 76,
   "metadata": {},
   "outputs": [],
   "source": [
    "col0 = np.unique(df[\"category\"].str.split(\",\").apply(pd.Series).loc[:, 0])\n",
    "col1 = np.unique(df[\"category\"].str.split(\",\").apply(pd.Series).loc[:, 1].dropna())\n",
    "cat = np.unique(np.append(col1, col0))\n",
    "num_classes = len(cat)"
   ]
  },
  {
   "cell_type": "code",
   "execution_count": 77,
   "metadata": {},
   "outputs": [
    {
     "data": {
      "text/plain": [
       "5"
      ]
     },
     "execution_count": 77,
     "metadata": {},
     "output_type": "execute_result"
    }
   ],
   "source": [
    "num_classes"
   ]
  },
  {
   "cell_type": "markdown",
   "metadata": {},
   "source": [
    "The training dataset contains texts that are categorized into one or more of six distinct classes: 'educação', 'finanças', 'indústrias', 'orgão público', and 'varejo'. This setup constitutes a multi-label classification challenge."
   ]
  },
  {
   "cell_type": "markdown",
   "metadata": {},
   "source": [
    "## Preprocessing"
   ]
  },
  {
   "cell_type": "markdown",
   "metadata": {},
   "source": [
    "First, we'll divide the dataset into training and testing sets. This ensures that the model is trained on a subset of the data and evaluated on a separate set it hasn't seen before, allowing for a fair assessment of its performance. This step is crucial in preventing data leakage and ensuring that our evaluation metrics accurately reflect the model's ability to generalize to new data."
   ]
  },
  {
   "cell_type": "code",
   "execution_count": 78,
   "metadata": {},
   "outputs": [],
   "source": [
    "train, test = train_test_split(df, test_size=0.2)\n",
    "train = train.reset_index(drop=True)\n",
    "test = test.reset_index(drop=True)"
   ]
  },
  {
   "cell_type": "markdown",
   "metadata": {},
   "source": [
    "### One hot encoding targe variable\n",
    "\n",
    "Second, we'll apply one-hot encoding to the target column. This process will transform each category into a separate column, where a category's presence or absence in a sample is represented by 1 or 0, respectively."
   ]
  },
  {
   "cell_type": "code",
   "execution_count": 79,
   "metadata": {},
   "outputs": [],
   "source": [
    "train[\"category\"] = train[\"category\"].str.split(\",\")\n",
    "test[\"category\"] = test[\"category\"].str.split(\",\")\n",
    "\n",
    "mlb = MultiLabelBinarizer()\n",
    "\n",
    "one_hot_encoded_train = mlb.fit_transform(train['category'])\n",
    "one_hot_train_df = pd.DataFrame(one_hot_encoded_train, columns=mlb.classes_)\n",
    "train = pd.concat([train, one_hot_train_df], axis=1).drop('category', axis=1)\n",
    "\n",
    "one_hot_encoded_test = mlb.transform(test['category'])\n",
    "one_hot_test_df = pd.DataFrame(one_hot_encoded_test, columns=mlb.classes_)\n",
    "test = pd.concat([test, one_hot_test_df], axis=1).drop('category', axis=1)"
   ]
  },
  {
   "cell_type": "code",
   "execution_count": 80,
   "metadata": {},
   "outputs": [
    {
     "data": {
      "text/html": [
       "<div>\n",
       "<style scoped>\n",
       "    .dataframe tbody tr th:only-of-type {\n",
       "        vertical-align: middle;\n",
       "    }\n",
       "\n",
       "    .dataframe tbody tr th {\n",
       "        vertical-align: top;\n",
       "    }\n",
       "\n",
       "    .dataframe thead th {\n",
       "        text-align: right;\n",
       "    }\n",
       "</style>\n",
       "<table border=\"1\" class=\"dataframe\">\n",
       "  <thead>\n",
       "    <tr style=\"text-align: right;\">\n",
       "      <th></th>\n",
       "      <th>educação</th>\n",
       "      <th>finanças</th>\n",
       "      <th>indústrias</th>\n",
       "      <th>orgão público</th>\n",
       "      <th>varejo</th>\n",
       "    </tr>\n",
       "  </thead>\n",
       "  <tbody>\n",
       "    <tr>\n",
       "      <th>count</th>\n",
       "      <td>416.000000</td>\n",
       "      <td>416.000000</td>\n",
       "      <td>416.000000</td>\n",
       "      <td>416.000000</td>\n",
       "      <td>416.000000</td>\n",
       "    </tr>\n",
       "    <tr>\n",
       "      <th>mean</th>\n",
       "      <td>0.235577</td>\n",
       "      <td>0.156250</td>\n",
       "      <td>0.213942</td>\n",
       "      <td>0.300481</td>\n",
       "      <td>0.187500</td>\n",
       "    </tr>\n",
       "    <tr>\n",
       "      <th>std</th>\n",
       "      <td>0.424870</td>\n",
       "      <td>0.363529</td>\n",
       "      <td>0.410580</td>\n",
       "      <td>0.459019</td>\n",
       "      <td>0.390782</td>\n",
       "    </tr>\n",
       "    <tr>\n",
       "      <th>min</th>\n",
       "      <td>0.000000</td>\n",
       "      <td>0.000000</td>\n",
       "      <td>0.000000</td>\n",
       "      <td>0.000000</td>\n",
       "      <td>0.000000</td>\n",
       "    </tr>\n",
       "    <tr>\n",
       "      <th>25%</th>\n",
       "      <td>0.000000</td>\n",
       "      <td>0.000000</td>\n",
       "      <td>0.000000</td>\n",
       "      <td>0.000000</td>\n",
       "      <td>0.000000</td>\n",
       "    </tr>\n",
       "    <tr>\n",
       "      <th>50%</th>\n",
       "      <td>0.000000</td>\n",
       "      <td>0.000000</td>\n",
       "      <td>0.000000</td>\n",
       "      <td>0.000000</td>\n",
       "      <td>0.000000</td>\n",
       "    </tr>\n",
       "    <tr>\n",
       "      <th>75%</th>\n",
       "      <td>0.000000</td>\n",
       "      <td>0.000000</td>\n",
       "      <td>0.000000</td>\n",
       "      <td>1.000000</td>\n",
       "      <td>0.000000</td>\n",
       "    </tr>\n",
       "    <tr>\n",
       "      <th>max</th>\n",
       "      <td>1.000000</td>\n",
       "      <td>1.000000</td>\n",
       "      <td>1.000000</td>\n",
       "      <td>1.000000</td>\n",
       "      <td>1.000000</td>\n",
       "    </tr>\n",
       "  </tbody>\n",
       "</table>\n",
       "</div>"
      ],
      "text/plain": [
       "         educação    finanças  indústrias  orgão público      varejo\n",
       "count  416.000000  416.000000  416.000000     416.000000  416.000000\n",
       "mean     0.235577    0.156250    0.213942       0.300481    0.187500\n",
       "std      0.424870    0.363529    0.410580       0.459019    0.390782\n",
       "min      0.000000    0.000000    0.000000       0.000000    0.000000\n",
       "25%      0.000000    0.000000    0.000000       0.000000    0.000000\n",
       "50%      0.000000    0.000000    0.000000       0.000000    0.000000\n",
       "75%      0.000000    0.000000    0.000000       1.000000    0.000000\n",
       "max      1.000000    1.000000    1.000000       1.000000    1.000000"
      ]
     },
     "execution_count": 80,
     "metadata": {},
     "output_type": "execute_result"
    }
   ],
   "source": [
    "# check missing values in numeric columns\n",
    "train.describe()"
   ]
  },
  {
   "cell_type": "code",
   "execution_count": 81,
   "metadata": {},
   "outputs": [],
   "source": [
    "train[\"sentence\"] = train[\"sentence\"].str.strip().str.lower()\n",
    "test[\"sentence\"] = test[\"sentence\"].str.strip().str.lower()"
   ]
  },
  {
   "cell_type": "code",
   "execution_count": 82,
   "metadata": {},
   "outputs": [
    {
     "name": "stdout",
     "output_type": "stream",
     "text": [
      "(416,) (105,)\n"
     ]
    }
   ],
   "source": [
    "X_train = train.sentence\n",
    "X_test = test.sentence\n",
    "\n",
    "print(X_train.shape, X_test.shape)"
   ]
  },
  {
   "cell_type": "markdown",
   "metadata": {},
   "source": [
    "### TfidfVectorizer\n",
    "\n",
    "TfidfVectorizer stands for Term Frequency-Inverse Document Frequency. It enhances the simple count-based approach by considering not only how often a word appears in a single document but also how unique the word is across all documents in the corpus. It combines two metrics:\n",
    "\n",
    "- Term Frequency (TF): Similar to CountVectorizer, it measures how frequently a term occurs in a document. This is normalized by dividing by the total number of words in the document to avoid bias towards longer documents.\n",
    "- Inverse Document Frequency (IDF): This measures how unique or common a word is in the entire document corpus. The more documents a word appears in, the lower its IDF (and thus, its importance).\n",
    "\n",
    "The TF-IDF score of a word increases proportionally to the number of times a word appears in the document but is offset by the frequency of the word across the corpus. This helps to diminish the effect of frequently occurring words that don’t hold much meaningful information about the document"
   ]
  },
  {
   "cell_type": "code",
   "execution_count": 83,
   "metadata": {},
   "outputs": [],
   "source": [
    "stop_words_pt = stopwords.words('portuguese')\n",
    "vectorizer = TfidfVectorizer(stop_words=stop_words_pt)\n",
    "\n",
    "X_train_matrix = vectorizer.fit_transform(X_train)\n",
    "X_test_matrix = vectorizer.transform(X_test)"
   ]
  },
  {
   "cell_type": "code",
   "execution_count": 84,
   "metadata": {},
   "outputs": [
    {
     "data": {
      "text/plain": [
       "<416x1663 sparse matrix of type '<class 'numpy.float64'>'\n",
       "\twith 2780 stored elements in Compressed Sparse Row format>"
      ]
     },
     "execution_count": 84,
     "metadata": {},
     "output_type": "execute_result"
    }
   ],
   "source": [
    "X_train_matrix"
   ]
  },
  {
   "cell_type": "code",
   "execution_count": 85,
   "metadata": {},
   "outputs": [
    {
     "data": {
      "text/plain": [
       "<105x1663 sparse matrix of type '<class 'numpy.float64'>'\n",
       "\twith 409 stored elements in Compressed Sparse Row format>"
      ]
     },
     "execution_count": 85,
     "metadata": {},
     "output_type": "execute_result"
    }
   ],
   "source": [
    "X_test_matrix"
   ]
  },
  {
   "cell_type": "code",
   "execution_count": 86,
   "metadata": {},
   "outputs": [],
   "source": [
    "y_train = train[cat]\n",
    "y_test = test[cat]"
   ]
  },
  {
   "cell_type": "markdown",
   "metadata": {},
   "source": [
    "## Training\n",
    "\n",
    "There are various strategies to address multi-label classification issues. In scenarios where there is no significant correlation among the target classes, one straightforward approach is to employ Binary Relevance.\n",
    "\n",
    "Binary Relevance stands out for its simplicity and popularity in multi-label classification tasks, aiming to simultaneously predict multiple labels for each dataset instance. Its fundamental concept involves breaking down the multi-label classification challenge into several independent binary classification tasks, corresponding to each label within the dataset."
   ]
  },
  {
   "cell_type": "code",
   "execution_count": 87,
   "metadata": {},
   "outputs": [
    {
     "name": "stdout",
     "output_type": "stream",
     "text": [
      "Training in Fold: 0\n",
      "Processing educação\n",
      "Training accuracy is 0.8095238095238095\n",
      "Processing finanças\n",
      "Training accuracy is 0.8452380952380952\n",
      "Processing indústrias\n",
      "Training accuracy is 0.8690476190476191\n",
      "Processing orgão público\n",
      "Training accuracy is 0.7619047619047619\n",
      "Processing varejo\n",
      "Training accuracy is 0.8809523809523809\n",
      "**************************************************\n",
      "Training in Fold: 1\n",
      "Processing educação\n",
      "Training accuracy is 0.8795180722891566\n",
      "Processing finanças\n",
      "Training accuracy is 0.8313253012048193\n",
      "Processing indústrias\n",
      "Training accuracy is 0.7831325301204819\n",
      "Processing orgão público\n",
      "Training accuracy is 0.8072289156626506\n",
      "Processing varejo\n",
      "Training accuracy is 0.8313253012048193\n",
      "**************************************************\n",
      "Training in Fold: 2\n",
      "Processing educação\n",
      "Training accuracy is 0.8674698795180723\n",
      "Processing finanças\n",
      "Training accuracy is 0.9036144578313253\n",
      "Processing indústrias\n",
      "Training accuracy is 0.8433734939759037\n",
      "Processing orgão público\n",
      "Training accuracy is 0.8554216867469879\n",
      "Processing varejo\n",
      "Training accuracy is 0.8433734939759037\n",
      "**************************************************\n",
      "Training in Fold: 3\n",
      "Processing educação\n",
      "Training accuracy is 0.8554216867469879\n",
      "Processing finanças\n",
      "Training accuracy is 0.891566265060241\n",
      "Processing indústrias\n",
      "Training accuracy is 0.8313253012048193\n",
      "Processing orgão público\n",
      "Training accuracy is 0.7710843373493976\n",
      "Processing varejo\n",
      "Training accuracy is 0.8554216867469879\n",
      "**************************************************\n",
      "Training in Fold: 4\n",
      "Processing educação\n",
      "Training accuracy is 0.891566265060241\n",
      "Processing finanças\n",
      "Training accuracy is 0.8072289156626506\n",
      "Processing indústrias\n",
      "Training accuracy is 0.891566265060241\n",
      "Processing orgão público\n",
      "Training accuracy is 0.8192771084337349\n",
      "Processing varejo\n",
      "Training accuracy is 0.8674698795180723\n",
      "**************************************************\n"
     ]
    }
   ],
   "source": [
    "from sklearn.tree import DecisionTreeClassifier\n",
    "kf = KFold(n_splits=5)\n",
    "dict_acc = dict(zip(cat, [[] for _ in range(len(cat))]))\n",
    "model_dict = {}\n",
    "for i, (train_index, test_index) in enumerate(kf.split(X_train_matrix)):\n",
    "    X_tr, X_te = X_train_matrix[train_index], X_train_matrix[test_index]\n",
    "    y_tr, y_te = y_train.loc[train_index], y_train.loc[test_index]\n",
    "    print(f\"Training in Fold: {i}\")\n",
    "    for label in cat:\n",
    "        # model = LogisticRegression(C=15)\n",
    "        model = DecisionTreeClassifier()\n",
    "        print(f'Processing {label}')\n",
    "        model.fit(X_tr, y_tr[label])\n",
    "        y_pred = model.predict(X_te)\n",
    "        score = accuracy_score(y_te[label], y_pred)\n",
    "        print(f'Training accuracy is {score}')\n",
    "        test_y_prob = model.predict_proba(X_te)[:,1]\n",
    "        model_dict[label] = model\n",
    "        dict_acc[label].append(score)\n",
    "        if score > np.max(dict_acc[label]):\n",
    "            model_dict[label] = model\n",
    "    print(\"*\" * 50)"
   ]
  },
  {
   "cell_type": "code",
   "execution_count": 88,
   "metadata": {},
   "outputs": [],
   "source": [
    "for c in model_dict.keys():\n",
    "    filename = \"_\".join(unidecode(c).split(\" \"))\n",
    "    with open(f'./models/{filename}.pkl', 'wb') as file:\n",
    "        pickle.dump(model_dict[c], file)"
   ]
  },
  {
   "cell_type": "code",
   "execution_count": 89,
   "metadata": {},
   "outputs": [],
   "source": [
    "acc_df = pd.DataFrame(dict_acc)\n",
    "acc_df[\"index\"] = acc_df.reset_index()[\"index\"].apply(lambda x: f\"Fold {x + 1}\")\n",
    "acc_df = acc_df.rename(columns={\"index\": \"\"}).set_index(\"\").T"
   ]
  },
  {
   "cell_type": "code",
   "execution_count": 90,
   "metadata": {},
   "outputs": [
    {
     "data": {
      "text/html": [
       "<div>\n",
       "<style scoped>\n",
       "    .dataframe tbody tr th:only-of-type {\n",
       "        vertical-align: middle;\n",
       "    }\n",
       "\n",
       "    .dataframe tbody tr th {\n",
       "        vertical-align: top;\n",
       "    }\n",
       "\n",
       "    .dataframe thead th {\n",
       "        text-align: right;\n",
       "    }\n",
       "</style>\n",
       "<table border=\"1\" class=\"dataframe\">\n",
       "  <thead>\n",
       "    <tr style=\"text-align: right;\">\n",
       "      <th></th>\n",
       "      <th>Fold 1</th>\n",
       "      <th>Fold 2</th>\n",
       "      <th>Fold 3</th>\n",
       "      <th>Fold 4</th>\n",
       "      <th>Fold 5</th>\n",
       "    </tr>\n",
       "  </thead>\n",
       "  <tbody>\n",
       "    <tr>\n",
       "      <th>educação</th>\n",
       "      <td>0.809524</td>\n",
       "      <td>0.879518</td>\n",
       "      <td>0.867470</td>\n",
       "      <td>0.855422</td>\n",
       "      <td>0.891566</td>\n",
       "    </tr>\n",
       "    <tr>\n",
       "      <th>finanças</th>\n",
       "      <td>0.845238</td>\n",
       "      <td>0.831325</td>\n",
       "      <td>0.903614</td>\n",
       "      <td>0.891566</td>\n",
       "      <td>0.807229</td>\n",
       "    </tr>\n",
       "    <tr>\n",
       "      <th>indústrias</th>\n",
       "      <td>0.869048</td>\n",
       "      <td>0.783133</td>\n",
       "      <td>0.843373</td>\n",
       "      <td>0.831325</td>\n",
       "      <td>0.891566</td>\n",
       "    </tr>\n",
       "    <tr>\n",
       "      <th>orgão público</th>\n",
       "      <td>0.761905</td>\n",
       "      <td>0.807229</td>\n",
       "      <td>0.855422</td>\n",
       "      <td>0.771084</td>\n",
       "      <td>0.819277</td>\n",
       "    </tr>\n",
       "    <tr>\n",
       "      <th>varejo</th>\n",
       "      <td>0.880952</td>\n",
       "      <td>0.831325</td>\n",
       "      <td>0.843373</td>\n",
       "      <td>0.855422</td>\n",
       "      <td>0.867470</td>\n",
       "    </tr>\n",
       "  </tbody>\n",
       "</table>\n",
       "</div>"
      ],
      "text/plain": [
       "                 Fold 1    Fold 2    Fold 3    Fold 4    Fold 5\n",
       "educação       0.809524  0.879518  0.867470  0.855422  0.891566\n",
       "finanças       0.845238  0.831325  0.903614  0.891566  0.807229\n",
       "indústrias     0.869048  0.783133  0.843373  0.831325  0.891566\n",
       "orgão público  0.761905  0.807229  0.855422  0.771084  0.819277\n",
       "varejo         0.880952  0.831325  0.843373  0.855422  0.867470"
      ]
     },
     "execution_count": 90,
     "metadata": {},
     "output_type": "execute_result"
    }
   ],
   "source": [
    "acc_df"
   ]
  },
  {
   "cell_type": "markdown",
   "metadata": {},
   "source": [
    "The mean training accuracy across folds is shown bellow:"
   ]
  },
  {
   "cell_type": "code",
   "execution_count": 91,
   "metadata": {},
   "outputs": [
    {
     "data": {
      "text/plain": [
       "educação         0.860700\n",
       "finanças         0.855795\n",
       "indústrias       0.843689\n",
       "orgão público    0.802983\n",
       "varejo           0.855709\n",
       "dtype: float64"
      ]
     },
     "execution_count": 91,
     "metadata": {},
     "output_type": "execute_result"
    }
   ],
   "source": [
    "acc_df.mean(axis=1)"
   ]
  },
  {
   "cell_type": "markdown",
   "metadata": {},
   "source": [
    "## Validation"
   ]
  },
  {
   "cell_type": "code",
   "execution_count": 92,
   "metadata": {},
   "outputs": [
    {
     "name": "stdout",
     "output_type": "stream",
     "text": [
      "Label: educação\n",
      "Accuracy: 0.8286\n",
      "Hamming Loss: 0.1714\n",
      "Precision: 0.824\n",
      "Recall: 0.6675\n",
      "F1 Score: 0.6983\n",
      "Jaccard Score: 0.5729\n",
      "******************************\n",
      "Label: finanças\n",
      "Accuracy: 0.8571\n",
      "Hamming Loss: 0.1429\n",
      "Precision: 0.6594\n",
      "Recall: 0.7195\n",
      "F1 Score: 0.6812\n",
      "Jaccard Score: 0.5671\n",
      "******************************\n",
      "Label: indústrias\n",
      "Accuracy: 0.9048\n",
      "Hamming Loss: 0.0952\n",
      "Precision: 0.8737\n",
      "Recall: 0.7663\n",
      "F1 Score: 0.8056\n",
      "Jaccard Score: 0.6974\n",
      "******************************\n",
      "Label: orgão público\n",
      "Accuracy: 0.8095\n",
      "Hamming Loss: 0.1905\n",
      "Precision: 0.8297\n",
      "Recall: 0.6867\n",
      "F1 Score: 0.7125\n",
      "Jaccard Score: 0.58\n",
      "******************************\n",
      "Label: varejo\n",
      "Accuracy: 0.8952\n",
      "Hamming Loss: 0.1048\n",
      "Precision: 0.8988\n",
      "Recall: 0.8263\n",
      "F1 Score: 0.8536\n",
      "Jaccard Score: 0.7527\n",
      "******************************\n"
     ]
    }
   ],
   "source": [
    "from sklearn.metrics import accuracy_score, hamming_loss, precision_score, recall_score, f1_score, jaccard_score\n",
    "for label in cat:\n",
    "    print(f\"Label: {label}\")\n",
    "    y_true = y_test[label]\n",
    "    y_pred = model_dict[label].predict(X_test_matrix)\n",
    "    accuracy = np.round(accuracy_score(y_true, y_pred), 4)\n",
    "    hamming = np.round(hamming_loss(y_true, y_pred), 4)\n",
    "    precision = np.round(precision_score(y_true, y_pred, average='macro'), 4)\n",
    "    recall = np.round(recall_score(y_true, y_pred, average='macro'), 4)\n",
    "    f1 = np.round(f1_score(y_true, y_pred, average='macro'), 4)\n",
    "    jaccard = np.round(jaccard_score(y_true, y_pred, average='macro'), 4)\n",
    "\n",
    "    print(f\"Accuracy: {accuracy}\\nHamming Loss: {hamming}\\nPrecision: {precision}\\nRecall: {recall}\\nF1 Score: {f1}\\nJaccard Score: {jaccard}\")\n",
    "    print(\"*\" * 30)"
   ]
  },
  {
   "cell_type": "code",
   "execution_count": 93,
   "metadata": {},
   "outputs": [],
   "source": [
    "# sample = \"Melhor política industrial é acabar com isenção para compras internacionais, diz presidente da Fiemg\"\n",
    "# sample = \"Chevrolet Spin recebe mudanças, mas mantém antigo motor 1.8\"\n",
    "sample = \"Bancos estão mudando datas de fechamento das faturas dos cartões?\"\n",
    "\n",
    "def prediction(sample):\n",
    "    sample = sample.strip().lower()\n",
    "    sample_matrix = vectorizer.transform([sample])\n",
    "    classes = []\n",
    "    probs = []\n",
    "    for key, value in model_dict.items():\n",
    "        prob = np.round(100 * value.predict_proba(sample_matrix)[0][-1], 2)\n",
    "        print(value.predict_proba(sample_matrix))\n",
    "        print(f\"{key}: {prob}\")\n",
    "        if prob >= 50:\n",
    "            classes.append(key)\n",
    "            probs.append(prob)\n",
    "    return dict(zip(classes, probs))"
   ]
  },
  {
   "cell_type": "code",
   "execution_count": 94,
   "metadata": {},
   "outputs": [
    {
     "name": "stdout",
     "output_type": "stream",
     "text": [
      "[[1. 0.]]\n",
      "educação: 0.0\n",
      "[[1. 0.]]\n",
      "finanças: 0.0\n",
      "[[1. 0.]]\n",
      "indústrias: 0.0\n",
      "[[1. 0.]]\n",
      "orgão público: 0.0\n",
      "[[1. 0.]]\n",
      "varejo: 0.0\n"
     ]
    },
    {
     "data": {
      "text/plain": [
       "{}"
      ]
     },
     "execution_count": 94,
     "metadata": {},
     "output_type": "execute_result"
    }
   ],
   "source": [
    "prediction(sample)"
   ]
  },
  {
   "cell_type": "code",
   "execution_count": 95,
   "metadata": {},
   "outputs": [
    {
     "data": {
      "text/plain": [
       "<416x1663 sparse matrix of type '<class 'numpy.float64'>'\n",
       "\twith 2780 stored elements in Compressed Sparse Row format>"
      ]
     },
     "execution_count": 95,
     "metadata": {},
     "output_type": "execute_result"
    }
   ],
   "source": [
    "X_train_matrix"
   ]
  },
  {
   "cell_type": "code",
   "execution_count": 96,
   "metadata": {},
   "outputs": [
    {
     "data": {
      "text/html": [
       "<div>\n",
       "<style scoped>\n",
       "    .dataframe tbody tr th:only-of-type {\n",
       "        vertical-align: middle;\n",
       "    }\n",
       "\n",
       "    .dataframe tbody tr th {\n",
       "        vertical-align: top;\n",
       "    }\n",
       "\n",
       "    .dataframe thead th {\n",
       "        text-align: right;\n",
       "    }\n",
       "</style>\n",
       "<table border=\"1\" class=\"dataframe\">\n",
       "  <thead>\n",
       "    <tr style=\"text-align: right;\">\n",
       "      <th></th>\n",
       "      <th>educação</th>\n",
       "      <th>finanças</th>\n",
       "      <th>indústrias</th>\n",
       "      <th>orgão público</th>\n",
       "      <th>varejo</th>\n",
       "    </tr>\n",
       "  </thead>\n",
       "  <tbody>\n",
       "    <tr>\n",
       "      <th>0</th>\n",
       "      <td>0</td>\n",
       "      <td>0</td>\n",
       "      <td>1</td>\n",
       "      <td>0</td>\n",
       "      <td>0</td>\n",
       "    </tr>\n",
       "    <tr>\n",
       "      <th>1</th>\n",
       "      <td>1</td>\n",
       "      <td>0</td>\n",
       "      <td>0</td>\n",
       "      <td>0</td>\n",
       "      <td>0</td>\n",
       "    </tr>\n",
       "    <tr>\n",
       "      <th>2</th>\n",
       "      <td>0</td>\n",
       "      <td>0</td>\n",
       "      <td>1</td>\n",
       "      <td>0</td>\n",
       "      <td>1</td>\n",
       "    </tr>\n",
       "    <tr>\n",
       "      <th>3</th>\n",
       "      <td>0</td>\n",
       "      <td>0</td>\n",
       "      <td>0</td>\n",
       "      <td>0</td>\n",
       "      <td>1</td>\n",
       "    </tr>\n",
       "    <tr>\n",
       "      <th>4</th>\n",
       "      <td>0</td>\n",
       "      <td>0</td>\n",
       "      <td>0</td>\n",
       "      <td>1</td>\n",
       "      <td>0</td>\n",
       "    </tr>\n",
       "    <tr>\n",
       "      <th>...</th>\n",
       "      <td>...</td>\n",
       "      <td>...</td>\n",
       "      <td>...</td>\n",
       "      <td>...</td>\n",
       "      <td>...</td>\n",
       "    </tr>\n",
       "    <tr>\n",
       "      <th>411</th>\n",
       "      <td>0</td>\n",
       "      <td>0</td>\n",
       "      <td>0</td>\n",
       "      <td>1</td>\n",
       "      <td>0</td>\n",
       "    </tr>\n",
       "    <tr>\n",
       "      <th>412</th>\n",
       "      <td>1</td>\n",
       "      <td>0</td>\n",
       "      <td>0</td>\n",
       "      <td>0</td>\n",
       "      <td>0</td>\n",
       "    </tr>\n",
       "    <tr>\n",
       "      <th>413</th>\n",
       "      <td>1</td>\n",
       "      <td>0</td>\n",
       "      <td>0</td>\n",
       "      <td>0</td>\n",
       "      <td>0</td>\n",
       "    </tr>\n",
       "    <tr>\n",
       "      <th>414</th>\n",
       "      <td>0</td>\n",
       "      <td>0</td>\n",
       "      <td>0</td>\n",
       "      <td>0</td>\n",
       "      <td>1</td>\n",
       "    </tr>\n",
       "    <tr>\n",
       "      <th>415</th>\n",
       "      <td>1</td>\n",
       "      <td>0</td>\n",
       "      <td>0</td>\n",
       "      <td>0</td>\n",
       "      <td>0</td>\n",
       "    </tr>\n",
       "  </tbody>\n",
       "</table>\n",
       "<p>416 rows × 5 columns</p>\n",
       "</div>"
      ],
      "text/plain": [
       "     educação  finanças  indústrias  orgão público  varejo\n",
       "0           0         0           1              0       0\n",
       "1           1         0           0              0       0\n",
       "2           0         0           1              0       1\n",
       "3           0         0           0              0       1\n",
       "4           0         0           0              1       0\n",
       "..        ...       ...         ...            ...     ...\n",
       "411         0         0           0              1       0\n",
       "412         1         0           0              0       0\n",
       "413         1         0           0              0       0\n",
       "414         0         0           0              0       1\n",
       "415         1         0           0              0       0\n",
       "\n",
       "[416 rows x 5 columns]"
      ]
     },
     "execution_count": 96,
     "metadata": {},
     "output_type": "execute_result"
    }
   ],
   "source": [
    "y_train"
   ]
  },
  {
   "cell_type": "code",
   "execution_count": 150,
   "metadata": {},
   "outputs": [],
   "source": [
    "from sklearn.multioutput import MultiOutputClassifier\n",
    "from sklearn.linear_model import LogisticRegression\n",
    "from sklearn.ensemble import RandomForestClassifier\n",
    "from sklearn.tree import DecisionTreeClassifier\n",
    "from sklearn.svm import SVC\n",
    "from sklearn.naive_bayes import MultinomialNB\n",
    "\n",
    "clf = MultiOutputClassifier(MultinomialNB()).fit(X_train_matrix, y_train)"
   ]
  },
  {
   "cell_type": "code",
   "execution_count": 160,
   "metadata": {},
   "outputs": [
    {
     "name": "stdout",
     "output_type": "stream",
     "text": [
      "Learning rate set to 0.483378\n",
      "0:\tlearn: 0.5545012\ttotal: 54.9ms\tremaining: 494ms\n",
      "1:\tlearn: 0.4907733\ttotal: 58.9ms\tremaining: 236ms\n",
      "2:\tlearn: 0.4442690\ttotal: 63.9ms\tremaining: 149ms\n",
      "3:\tlearn: 0.4028789\ttotal: 68.1ms\tremaining: 102ms\n",
      "4:\tlearn: 0.3766845\ttotal: 71.8ms\tremaining: 71.8ms\n",
      "5:\tlearn: 0.3610786\ttotal: 75.7ms\tremaining: 50.4ms\n",
      "6:\tlearn: 0.3423515\ttotal: 80.5ms\tremaining: 34.5ms\n",
      "7:\tlearn: 0.3226904\ttotal: 84.5ms\tremaining: 21.1ms\n",
      "8:\tlearn: 0.3129856\ttotal: 88ms\tremaining: 9.78ms\n",
      "9:\tlearn: 0.2953522\ttotal: 92.3ms\tremaining: 0us\n",
      "Learning rate set to 0.483378\n",
      "0:\tlearn: 0.4328148\ttotal: 9.05ms\tremaining: 81.5ms\n",
      "1:\tlearn: 0.3729760\ttotal: 13.9ms\tremaining: 55.5ms\n",
      "2:\tlearn: 0.3436014\ttotal: 19.3ms\tremaining: 45ms\n",
      "3:\tlearn: 0.3292257\ttotal: 26.9ms\tremaining: 40.4ms\n",
      "4:\tlearn: 0.3130460\ttotal: 31.6ms\tremaining: 31.6ms\n",
      "5:\tlearn: 0.2956640\ttotal: 38.1ms\tremaining: 25.4ms\n",
      "6:\tlearn: 0.2769167\ttotal: 42.8ms\tremaining: 18.3ms\n",
      "7:\tlearn: 0.2688242\ttotal: 48ms\tremaining: 12ms\n",
      "8:\tlearn: 0.2519707\ttotal: 54.9ms\tremaining: 6.1ms\n",
      "9:\tlearn: 0.2377420\ttotal: 61.2ms\tremaining: 0us\n",
      "Learning rate set to 0.483378\n",
      "0:\tlearn: 0.4880869\ttotal: 13.2ms\tremaining: 119ms\n",
      "1:\tlearn: 0.4179689\ttotal: 27.8ms\tremaining: 111ms\n",
      "2:\tlearn: 0.3864346\ttotal: 42.3ms\tremaining: 98.8ms\n",
      "3:\tlearn: 0.3679112\ttotal: 57.5ms\tremaining: 86.3ms\n",
      "4:\tlearn: 0.3564079\ttotal: 72.2ms\tremaining: 72.2ms\n",
      "5:\tlearn: 0.3411609\ttotal: 82.6ms\tremaining: 55.1ms\n",
      "6:\tlearn: 0.3280367\ttotal: 89.6ms\tremaining: 38.4ms\n",
      "7:\tlearn: 0.3165908\ttotal: 96ms\tremaining: 24ms\n",
      "8:\tlearn: 0.2932749\ttotal: 101ms\tremaining: 11.3ms\n",
      "9:\tlearn: 0.2831578\ttotal: 106ms\tremaining: 0us\n",
      "Learning rate set to 0.483378\n",
      "0:\tlearn: 0.6163043\ttotal: 15.4ms\tremaining: 139ms\n",
      "1:\tlearn: 0.5519831\ttotal: 31ms\tremaining: 124ms\n",
      "2:\tlearn: 0.5304902\ttotal: 46.9ms\tremaining: 109ms\n",
      "3:\tlearn: 0.5129140\ttotal: 63ms\tremaining: 94.5ms\n",
      "4:\tlearn: 0.4802199\ttotal: 75.1ms\tremaining: 75.1ms\n",
      "5:\tlearn: 0.4578497\ttotal: 82.7ms\tremaining: 55.1ms\n",
      "6:\tlearn: 0.4459250\ttotal: 89.5ms\tremaining: 38.4ms\n",
      "7:\tlearn: 0.4243122\ttotal: 95.3ms\tremaining: 23.8ms\n",
      "8:\tlearn: 0.4131859\ttotal: 99.8ms\tremaining: 11.1ms\n",
      "9:\tlearn: 0.4033790\ttotal: 104ms\tremaining: 0us\n",
      "Learning rate set to 0.483378\n",
      "0:\tlearn: 0.5137394\ttotal: 20ms\tremaining: 180ms\n",
      "1:\tlearn: 0.4593917\ttotal: 35.7ms\tremaining: 143ms\n",
      "2:\tlearn: 0.4038330\ttotal: 51ms\tremaining: 119ms\n",
      "3:\tlearn: 0.3708167\ttotal: 62.6ms\tremaining: 94ms\n",
      "4:\tlearn: 0.3574636\ttotal: 71.3ms\tremaining: 71.3ms\n",
      "5:\tlearn: 0.3413562\ttotal: 77.6ms\tremaining: 51.7ms\n",
      "6:\tlearn: 0.3278725\ttotal: 82.9ms\tremaining: 35.5ms\n",
      "7:\tlearn: 0.3107151\ttotal: 88.4ms\tremaining: 22.1ms\n",
      "8:\tlearn: 0.2946272\ttotal: 93ms\tremaining: 10.3ms\n",
      "9:\tlearn: 0.2773937\ttotal: 98ms\tremaining: 0us\n"
     ]
    },
    {
     "data": {
      "text/html": [
       "<style>#sk-container-id-3 {color: black;}#sk-container-id-3 pre{padding: 0;}#sk-container-id-3 div.sk-toggleable {background-color: white;}#sk-container-id-3 label.sk-toggleable__label {cursor: pointer;display: block;width: 100%;margin-bottom: 0;padding: 0.3em;box-sizing: border-box;text-align: center;}#sk-container-id-3 label.sk-toggleable__label-arrow:before {content: \"▸\";float: left;margin-right: 0.25em;color: #696969;}#sk-container-id-3 label.sk-toggleable__label-arrow:hover:before {color: black;}#sk-container-id-3 div.sk-estimator:hover label.sk-toggleable__label-arrow:before {color: black;}#sk-container-id-3 div.sk-toggleable__content {max-height: 0;max-width: 0;overflow: hidden;text-align: left;background-color: #f0f8ff;}#sk-container-id-3 div.sk-toggleable__content pre {margin: 0.2em;color: black;border-radius: 0.25em;background-color: #f0f8ff;}#sk-container-id-3 input.sk-toggleable__control:checked~div.sk-toggleable__content {max-height: 200px;max-width: 100%;overflow: auto;}#sk-container-id-3 input.sk-toggleable__control:checked~label.sk-toggleable__label-arrow:before {content: \"▾\";}#sk-container-id-3 div.sk-estimator input.sk-toggleable__control:checked~label.sk-toggleable__label {background-color: #d4ebff;}#sk-container-id-3 div.sk-label input.sk-toggleable__control:checked~label.sk-toggleable__label {background-color: #d4ebff;}#sk-container-id-3 input.sk-hidden--visually {border: 0;clip: rect(1px 1px 1px 1px);clip: rect(1px, 1px, 1px, 1px);height: 1px;margin: -1px;overflow: hidden;padding: 0;position: absolute;width: 1px;}#sk-container-id-3 div.sk-estimator {font-family: monospace;background-color: #f0f8ff;border: 1px dotted black;border-radius: 0.25em;box-sizing: border-box;margin-bottom: 0.5em;}#sk-container-id-3 div.sk-estimator:hover {background-color: #d4ebff;}#sk-container-id-3 div.sk-parallel-item::after {content: \"\";width: 100%;border-bottom: 1px solid gray;flex-grow: 1;}#sk-container-id-3 div.sk-label:hover label.sk-toggleable__label {background-color: #d4ebff;}#sk-container-id-3 div.sk-serial::before {content: \"\";position: absolute;border-left: 1px solid gray;box-sizing: border-box;top: 0;bottom: 0;left: 50%;z-index: 0;}#sk-container-id-3 div.sk-serial {display: flex;flex-direction: column;align-items: center;background-color: white;padding-right: 0.2em;padding-left: 0.2em;position: relative;}#sk-container-id-3 div.sk-item {position: relative;z-index: 1;}#sk-container-id-3 div.sk-parallel {display: flex;align-items: stretch;justify-content: center;background-color: white;position: relative;}#sk-container-id-3 div.sk-item::before, #sk-container-id-3 div.sk-parallel-item::before {content: \"\";position: absolute;border-left: 1px solid gray;box-sizing: border-box;top: 0;bottom: 0;left: 50%;z-index: -1;}#sk-container-id-3 div.sk-parallel-item {display: flex;flex-direction: column;z-index: 1;position: relative;background-color: white;}#sk-container-id-3 div.sk-parallel-item:first-child::after {align-self: flex-end;width: 50%;}#sk-container-id-3 div.sk-parallel-item:last-child::after {align-self: flex-start;width: 50%;}#sk-container-id-3 div.sk-parallel-item:only-child::after {width: 0;}#sk-container-id-3 div.sk-dashed-wrapped {border: 1px dashed gray;margin: 0 0.4em 0.5em 0.4em;box-sizing: border-box;padding-bottom: 0.4em;background-color: white;}#sk-container-id-3 div.sk-label label {font-family: monospace;font-weight: bold;display: inline-block;line-height: 1.2em;}#sk-container-id-3 div.sk-label-container {text-align: center;}#sk-container-id-3 div.sk-container {/* jupyter's `normalize.less` sets `[hidden] { display: none; }` but bootstrap.min.css set `[hidden] { display: none !important; }` so we also need the `!important` here to be able to override the default hidden behavior on the sphinx rendered scikit-learn.org. See: https://github.com/scikit-learn/scikit-learn/issues/21755 */display: inline-block !important;position: relative;}#sk-container-id-3 div.sk-text-repr-fallback {display: none;}</style><div id=\"sk-container-id-3\" class=\"sk-top-container\"><div class=\"sk-text-repr-fallback\"><pre>OneVsRestClassifier(estimator=&lt;catboost.core.CatBoostClassifier object at 0x7f05f0fc9ee0&gt;)</pre><b>In a Jupyter environment, please rerun this cell to show the HTML representation or trust the notebook. <br />On GitHub, the HTML representation is unable to render, please try loading this page with nbviewer.org.</b></div><div class=\"sk-container\" hidden><div class=\"sk-item sk-dashed-wrapped\"><div class=\"sk-label-container\"><div class=\"sk-label sk-toggleable\"><input class=\"sk-toggleable__control sk-hidden--visually\" id=\"sk-estimator-id-3\" type=\"checkbox\" ><label for=\"sk-estimator-id-3\" class=\"sk-toggleable__label sk-toggleable__label-arrow\">OneVsRestClassifier</label><div class=\"sk-toggleable__content\"><pre>OneVsRestClassifier(estimator=&lt;catboost.core.CatBoostClassifier object at 0x7f05f0fc9ee0&gt;)</pre></div></div></div><div class=\"sk-parallel\"><div class=\"sk-parallel-item\"><div class=\"sk-item\"><div class=\"sk-label-container\"><div class=\"sk-label sk-toggleable\"><input class=\"sk-toggleable__control sk-hidden--visually\" id=\"sk-estimator-id-4\" type=\"checkbox\" ><label for=\"sk-estimator-id-4\" class=\"sk-toggleable__label sk-toggleable__label-arrow\">estimator: CatBoostClassifier</label><div class=\"sk-toggleable__content\"><pre>&lt;catboost.core.CatBoostClassifier object at 0x7f05f0fc9ee0&gt;</pre></div></div></div><div class=\"sk-serial\"><div class=\"sk-item\"><div class=\"sk-estimator sk-toggleable\"><input class=\"sk-toggleable__control sk-hidden--visually\" id=\"sk-estimator-id-5\" type=\"checkbox\" ><label for=\"sk-estimator-id-5\" class=\"sk-toggleable__label sk-toggleable__label-arrow\">CatBoostClassifier</label><div class=\"sk-toggleable__content\"><pre>&lt;catboost.core.CatBoostClassifier object at 0x7f05f0fc9ee0&gt;</pre></div></div></div></div></div></div></div></div></div></div>"
      ],
      "text/plain": [
       "OneVsRestClassifier(estimator=<catboost.core.CatBoostClassifier object at 0x7f05f0fc9ee0>)"
      ]
     },
     "execution_count": 160,
     "metadata": {},
     "output_type": "execute_result"
    }
   ],
   "source": [
    "from catboost import CatBoostClassifier\n",
    "from sklearn.multiclass import OneVsRestClassifier\n",
    "\n",
    "ovr = OneVsRestClassifier(estimator=CatBoostClassifier(iterations=10))\n",
    "ovr.fit(X_train_matrix, y_train)"
   ]
  },
  {
   "cell_type": "code",
   "execution_count": 152,
   "metadata": {},
   "outputs": [
    {
     "name": "stdout",
     "output_type": "stream",
     "text": [
      "Accuracy Score:  0.22857142857142856\n"
     ]
    }
   ],
   "source": [
    "from sklearn.metrics import accuracy_score\n",
    "print('Accuracy Score: ', accuracy_score(y_test, prediction))"
   ]
  },
  {
   "cell_type": "code",
   "execution_count": 153,
   "metadata": {},
   "outputs": [
    {
     "name": "stdout",
     "output_type": "stream",
     "text": [
      "Hamming Loss:  0.17\n"
     ]
    }
   ],
   "source": [
    "from sklearn.metrics import hamming_loss\n",
    "print('Hamming Loss: ', round(hamming_loss(y_test, prediction),2))"
   ]
  },
  {
   "cell_type": "code",
   "execution_count": 140,
   "metadata": {},
   "outputs": [],
   "source": [
    "# sample = \"Melhor política industrial é acabar com isenção para compras internacionais, diz presidente da Fiemg\"\n",
    "# sample = \"Chevrolet Spin recebe mudanças, mas mantém antigo motor 1.8\"\n",
    "# sample = \"Bancos estão mudando datas de fechamento das faturas dos cartões?\"\n",
    "sample = \"A união entre os dois bancos foi aprovada pelo CADE em 18 de agosto de 2010.\"\n",
    "sample = sample.strip().lower()\n",
    "sample_matrix = vectorizer.transform([sample])\n",
    "prediction = clf.predict(sample_matrix)\n",
    "predicted_labels = (cat * prediction)[(cat * prediction) != \"\"]"
   ]
  },
  {
   "cell_type": "code",
   "execution_count": 141,
   "metadata": {},
   "outputs": [
    {
     "data": {
      "text/plain": [
       "array([], dtype=object)"
      ]
     },
     "execution_count": 141,
     "metadata": {},
     "output_type": "execute_result"
    }
   ],
   "source": [
    "predicted_labels"
   ]
  }
 ],
 "metadata": {
  "kernelspec": {
   "display_name": "airflow_dags",
   "language": "python",
   "name": "python3"
  },
  "language_info": {
   "codemirror_mode": {
    "name": "ipython",
    "version": 3
   },
   "file_extension": ".py",
   "mimetype": "text/x-python",
   "name": "python",
   "nbconvert_exporter": "python",
   "pygments_lexer": "ipython3",
   "version": "3.8.0"
  }
 },
 "nbformat": 4,
 "nbformat_minor": 2
}
