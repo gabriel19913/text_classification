{
 "cells": [
  {
   "cell_type": "code",
   "execution_count": 8,
   "metadata": {},
   "outputs": [
    {
     "name": "stderr",
     "output_type": "stream",
     "text": [
      "[nltk_data] Downloading package stopwords to\n",
      "[nltk_data]     /home/gabriel/nltk_data...\n",
      "[nltk_data]   Package stopwords is already up-to-date!\n"
     ]
    }
   ],
   "source": [
    "import pandas as pd\n",
    "from sklearn.model_selection import train_test_split\n",
    "from sklearn.feature_extraction.text import TfidfVectorizer\n",
    "from sklearn.preprocessing import MultiLabelBinarizer\n",
    "import nltk\n",
    "nltk.download('stopwords')\n",
    "from nltk.corpus import stopwords\n",
    "import numpy as np\n",
    "from sklearn.linear_model import LogisticRegression"
   ]
  },
  {
   "cell_type": "code",
   "execution_count": 2,
   "metadata": {},
   "outputs": [],
   "source": [
    "df = pd.read_csv(\"dataset.csv\")\n",
    "train, test = train_test_split(df, test_size=0.2)\n",
    "train = train.reset_index(drop=True)\n",
    "test = test.reset_index(drop=True)\n",
    "train[\"sentence\"] = train[\"sentence\"].str.strip().str.lower()\n",
    "test[\"sentence\"] = test[\"sentence\"].str.strip().str.lower()"
   ]
  },
  {
   "cell_type": "code",
   "execution_count": 3,
   "metadata": {},
   "outputs": [],
   "source": [
    "train[\"category\"] = train[\"category\"].str.split(\",\")\n",
    "test[\"category\"] = test[\"category\"].str.split(\",\")\n",
    "\n",
    "mlb = MultiLabelBinarizer()\n",
    "\n",
    "one_hot_encoded_train = mlb.fit_transform(train['category'])\n",
    "one_hot_train_df = pd.DataFrame(one_hot_encoded_train, columns=mlb.classes_)\n",
    "train = pd.concat([train, one_hot_train_df], axis=1).drop('category', axis=1)\n",
    "\n",
    "one_hot_encoded_test = mlb.transform(test['category'])\n",
    "one_hot_test_df = pd.DataFrame(one_hot_encoded_test, columns=mlb.classes_)\n",
    "test = pd.concat([test, one_hot_test_df], axis=1).drop('category', axis=1)"
   ]
  },
  {
   "cell_type": "code",
   "execution_count": 14,
   "metadata": {},
   "outputs": [],
   "source": [
    "cat = ['educação', 'finanças', 'indústrias', 'orgão público',\n",
    "       'varejo']"
   ]
  },
  {
   "cell_type": "code",
   "execution_count": 15,
   "metadata": {},
   "outputs": [
    {
     "name": "stderr",
     "output_type": "stream",
     "text": [
      "/home/gabriel/.pyenv/versions/3.8.0/envs/airflow_dags/lib/python3.8/site-packages/sklearn/utils/_param_validation.py:594: FutureWarning: Passing an int for a boolean parameter is deprecated in version 1.2 and won't be supported anymore in version 1.4.\n",
      "  warnings.warn(\n"
     ]
    }
   ],
   "source": [
    "stop_words_pt = stopwords.words('portuguese')\n",
    "vec = TfidfVectorizer(ngram_range=(1,2), min_df=3, max_df=0.9,\n",
    "                      strip_accents='unicode', use_idf=1,\n",
    "                      smooth_idf=1, sublinear_tf=1 )\n",
    "X_train_matrix = vec.fit_transform(train[\"sentence\"])\n",
    "X_test_matrix = vec.transform(test[\"sentence\"])\n",
    "\n",
    "y_train = train[cat]\n",
    "y_test = test[cat]"
   ]
  },
  {
   "cell_type": "code",
   "execution_count": null,
   "metadata": {},
   "outputs": [],
   "source": [
    "# create a function to add features\n",
    "def add_feature(X, feature_to_add):\n",
    "    '''\n",
    "    Returns sparse feature matrix with added feature.\n",
    "    feature_to_add can also be a list of features.\n",
    "    '''\n",
    "    from scipy.sparse import csr_matrix, hstack\n",
    "    return hstack([X, csr_matrix(feature_to_add).T], 'csr')\n",
    "\n",
    "from sklearn.linear_model import LogisticRegression\n",
    "from sklearn.metrics import accuracy_score\n",
    "logreg = LogisticRegression(C=12.0)\n",
    "\n",
    "for label in cat:\n",
    "    print(f'... Processing {label}')\n",
    "    y = train[label]\n",
    "    # train the model using X_dtm & y\n",
    "    logreg.fit(X_dtm,y)\n",
    "    # compute the training accuracy\n",
    "    y_pred_X = logreg.predict(X_dtm)\n",
    "    print(f'Training Accuracy is {accuracy_score(y, y_pred_X)}')\n",
    "    # make predictions from test_X\n",
    "    test_y = logreg.predict(test_X_dtm)\n",
    "    test_y_prob = logreg.predict_proba(test_X_dtm)[:,1]\n",
    "    submission_chains[label] = test_y_prob\n",
    "    # chain current label to X_dtm\n",
    "    X_dtm = add_feature(X_dtm, y)\n",
    "    print(f'Shape of X_dtm is now {X_dtm.shape}')\n",
    "    # chain current label predictions to test_X_dtm\n",
    "    test_X_dtm = add_feature(test_X_dtm, test_y)\n",
    "    print(f'Shape of test_X_dtm is now {test_X_dtm.shape}')\n",
    "\n"
   ]
  },
  {
   "cell_type": "code",
   "execution_count": 16,
   "metadata": {},
   "outputs": [
    {
     "ename": "NameError",
     "evalue": "name 'X_train' is not defined",
     "output_type": "error",
     "traceback": [
      "\u001b[0;31m---------------------------------------------------------------------------\u001b[0m",
      "\u001b[0;31mNameError\u001b[0m                                 Traceback (most recent call last)",
      "Cell \u001b[0;32mIn[16], line 1\u001b[0m\n\u001b[0;32m----> 1\u001b[0m \u001b[43mX_train\u001b[49m\n",
      "\u001b[0;31mNameError\u001b[0m: name 'X_train' is not defined"
     ]
    }
   ],
   "source": [
    "X_train"
   ]
  },
  {
   "cell_type": "code",
   "execution_count": null,
   "metadata": {},
   "outputs": [],
   "source": [
    "from sklearn.tree import DecisionTreeClassifier\n",
    "kf = KFold(n_splits=5)\n",
    "dict_acc = dict(zip(cat, [[] for _ in range(len(cat))]))\n",
    "model_dict = {}\n",
    "for i, (train_index, test_index) in enumerate(kf.split(X_train_matrix)):\n",
    "    X_tr, X_te = X_train_matrix[train_index], X_train_matrix[test_index]\n",
    "    y_tr, y_te = y_train.loc[train_index], y_train.loc[test_index]\n",
    "    print(f\"Training in Fold: {i}\")\n",
    "    for label in cat:\n",
    "        # model = LogisticRegression(C=15)\n",
    "        model = DecisionTreeClassifier()\n",
    "        print(f'Processing {label}')\n",
    "        model.fit(X_tr, y_tr[label])\n",
    "        y_pred = model.predict(X_te)\n",
    "        score = accuracy_score(y_te[label], y_pred)\n",
    "        print(f'Training accuracy is {score}')\n",
    "        test_y_prob = model.predict_proba(X_te)[:,1]\n",
    "        model_dict[label] = model\n",
    "        dict_acc[label].append(score)\n",
    "        if score > np.max(dict_acc[label]):\n",
    "            model_dict[label] = model\n",
    "    print(\"*\" * 50)"
   ]
  },
  {
   "cell_type": "code",
   "execution_count": 5,
   "metadata": {},
   "outputs": [
    {
     "data": {
      "text/plain": [
       "<416x336 sparse matrix of type '<class 'numpy.float64'>'\n",
       "\twith 2362 stored elements in Compressed Sparse Row format>"
      ]
     },
     "execution_count": 5,
     "metadata": {},
     "output_type": "execute_result"
    }
   ],
   "source": [
    "trn_term_doc"
   ]
  }
 ],
 "metadata": {
  "kernelspec": {
   "display_name": "airflow_dags",
   "language": "python",
   "name": "python3"
  },
  "language_info": {
   "codemirror_mode": {
    "name": "ipython",
    "version": 3
   },
   "file_extension": ".py",
   "mimetype": "text/x-python",
   "name": "python",
   "nbconvert_exporter": "python",
   "pygments_lexer": "ipython3",
   "version": "3.8.0"
  }
 },
 "nbformat": 4,
 "nbformat_minor": 2
}
